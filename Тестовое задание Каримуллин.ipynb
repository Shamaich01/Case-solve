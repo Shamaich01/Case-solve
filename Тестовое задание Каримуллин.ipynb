{
 "cells": [
  {
   "cell_type": "markdown",
   "id": "153331eb",
   "metadata": {},
   "source": [
    "# Решение тестового задания"
   ]
  },
  {
   "cell_type": "markdown",
   "id": "abfae421",
   "metadata": {},
   "source": [
    "## Задача: Восстановить данные, привести данные в удобочитаемый вид."
   ]
  },
  {
   "cell_type": "markdown",
   "id": "ef42608d",
   "metadata": {},
   "source": [
    "## Дано: Excel-таблица \"Тестовое задание для стажировки по аналитике_ Датасет\" с выгрузкой данных."
   ]
  },
  {
   "cell_type": "markdown",
   "id": "401a5850",
   "metadata": {},
   "source": [
    "## Решение:"
   ]
  },
  {
   "cell_type": "markdown",
   "id": "eb01163d",
   "metadata": {},
   "source": [
    "### Исходя из выгрузки, обнаруживаем, что дано две таблицы. Для удобства работы с данными разделим эти таблицы по разным листам и приведем их к началу таблицы.\n",
    "\n",
    "### Работаем с выгрузкой из реестра. Видим, что все записи имеют стандартный вид \"пациент [ID] оплатил [loss] от [date]\". Напишем небольшой код для разделения этих данных и приведения их к удобочитаемой таблице."
   ]
  },
  {
   "cell_type": "code",
   "execution_count": 183,
   "id": "6ef4859e",
   "metadata": {},
   "outputs": [
    {
     "data": {
      "text/html": [
       "<div>\n",
       "<style scoped>\n",
       "    .dataframe tbody tr th:only-of-type {\n",
       "        vertical-align: middle;\n",
       "    }\n",
       "\n",
       "    .dataframe tbody tr th {\n",
       "        vertical-align: top;\n",
       "    }\n",
       "\n",
       "    .dataframe thead th {\n",
       "        text-align: right;\n",
       "    }\n",
       "</style>\n",
       "<table border=\"1\" class=\"dataframe\">\n",
       "  <thead>\n",
       "    <tr style=\"text-align: right;\">\n",
       "      <th></th>\n",
       "      <th>ID</th>\n",
       "      <th>Loss</th>\n",
       "      <th>Date</th>\n",
       "    </tr>\n",
       "  </thead>\n",
       "  <tbody>\n",
       "    <tr>\n",
       "      <th>0</th>\n",
       "      <td>21</td>\n",
       "      <td>3468.72</td>\n",
       "      <td>7.1.2020</td>\n",
       "    </tr>\n",
       "    <tr>\n",
       "      <th>1</th>\n",
       "      <td>22</td>\n",
       "      <td>9264.84</td>\n",
       "      <td>2.1.2020</td>\n",
       "    </tr>\n",
       "    <tr>\n",
       "      <th>2</th>\n",
       "      <td>23</td>\n",
       "      <td>9593.12</td>\n",
       "      <td>31.1.2020</td>\n",
       "    </tr>\n",
       "    <tr>\n",
       "      <th>3</th>\n",
       "      <td>24</td>\n",
       "      <td>7798.25</td>\n",
       "      <td>30.1.2020</td>\n",
       "    </tr>\n",
       "    <tr>\n",
       "      <th>4</th>\n",
       "      <td>25</td>\n",
       "      <td>4425.30</td>\n",
       "      <td>24.1.2020</td>\n",
       "    </tr>\n",
       "    <tr>\n",
       "      <th>5</th>\n",
       "      <td>26</td>\n",
       "      <td>4019.86</td>\n",
       "      <td>10.26.2020</td>\n",
       "    </tr>\n",
       "    <tr>\n",
       "      <th>6</th>\n",
       "      <td>27</td>\n",
       "      <td>6508.98</td>\n",
       "      <td>11.9.2020</td>\n",
       "    </tr>\n",
       "    <tr>\n",
       "      <th>7</th>\n",
       "      <td>28</td>\n",
       "      <td>4447.99</td>\n",
       "      <td>1.29.2020</td>\n",
       "    </tr>\n",
       "    <tr>\n",
       "      <th>8</th>\n",
       "      <td>29</td>\n",
       "      <td>4111.23</td>\n",
       "      <td>22.1.2020</td>\n",
       "    </tr>\n",
       "    <tr>\n",
       "      <th>9</th>\n",
       "      <td>30</td>\n",
       "      <td>7877.01</td>\n",
       "      <td>26.2.2020</td>\n",
       "    </tr>\n",
       "  </tbody>\n",
       "</table>\n",
       "</div>"
      ],
      "text/plain": [
       "   ID     Loss        Date\n",
       "0  21  3468.72    7.1.2020\n",
       "1  22  9264.84    2.1.2020\n",
       "2  23  9593.12   31.1.2020\n",
       "3  24  7798.25   30.1.2020\n",
       "4  25  4425.30   24.1.2020\n",
       "5  26  4019.86  10.26.2020\n",
       "6  27  6508.98   11.9.2020\n",
       "7  28  4447.99   1.29.2020\n",
       "8  29  4111.23   22.1.2020\n",
       "9  30  7877.01   26.2.2020"
      ]
     },
     "execution_count": 183,
     "metadata": {},
     "output_type": "execute_result"
    }
   ],
   "source": [
    "# Загружаем библиотеки\n",
    "import pandas as pd\n",
    "import xlrd\n",
    "\n",
    "# Приводим к списку, сразу его разбиваем\n",
    "\n",
    "wb = xlrd.open_workbook(r'C:\\Users\\Ильнур\\Desktop\\Тестовое задание для стажировки по аналитике_ Датасет.xlsx')\n",
    "sheet = wb.sheet_by_index(0)\n",
    "sheet.cell_value(0, 0)\n",
    "row_list = []\n",
    "for i in range(sheet.nrows):\n",
    "    try:\n",
    "        key = sheet.cell_value(i, 0)\n",
    "        row_list.append(key.split(' '))\n",
    "    except (ValueError, IndexError):\n",
    "        continue\n",
    "row_list\n",
    "\n",
    "# Создаем датафрейм, убираем мусорные столбцы и выводимм первые 10 строк\n",
    "\n",
    "df = pd.DataFrame(row_list)\n",
    "df = df.drop([0, 2, 4], 1)\n",
    "df = df.rename(columns={1:'ID', 3:'Loss', 5:'Date'})\n",
    "df.head(10)"
   ]
  },
  {
   "cell_type": "code",
   "execution_count": 184,
   "id": "f57fb03a",
   "metadata": {},
   "outputs": [
    {
     "data": {
      "text/html": [
       "<div>\n",
       "<style scoped>\n",
       "    .dataframe tbody tr th:only-of-type {\n",
       "        vertical-align: middle;\n",
       "    }\n",
       "\n",
       "    .dataframe tbody tr th {\n",
       "        vertical-align: top;\n",
       "    }\n",
       "\n",
       "    .dataframe thead th {\n",
       "        text-align: right;\n",
       "    }\n",
       "</style>\n",
       "<table border=\"1\" class=\"dataframe\">\n",
       "  <thead>\n",
       "    <tr style=\"text-align: right;\">\n",
       "      <th></th>\n",
       "      <th>Месяц</th>\n",
       "      <th>Сумма</th>\n",
       "    </tr>\n",
       "  </thead>\n",
       "  <tbody>\n",
       "    <tr>\n",
       "      <th>0</th>\n",
       "      <td>январь</td>\n",
       "      <td>485487.84</td>\n",
       "    </tr>\n",
       "    <tr>\n",
       "      <th>1</th>\n",
       "      <td>февраль</td>\n",
       "      <td>570192.91</td>\n",
       "    </tr>\n",
       "    <tr>\n",
       "      <th>2</th>\n",
       "      <td>март</td>\n",
       "      <td>698723.40</td>\n",
       "    </tr>\n",
       "    <tr>\n",
       "      <th>3</th>\n",
       "      <td>апрель</td>\n",
       "      <td>444834.87</td>\n",
       "    </tr>\n",
       "    <tr>\n",
       "      <th>4</th>\n",
       "      <td>май</td>\n",
       "      <td>574488.89</td>\n",
       "    </tr>\n",
       "    <tr>\n",
       "      <th>5</th>\n",
       "      <td>июнь</td>\n",
       "      <td>579810.45</td>\n",
       "    </tr>\n",
       "  </tbody>\n",
       "</table>\n",
       "</div>"
      ],
      "text/plain": [
       "     Месяц      Сумма\n",
       "0   январь  485487.84\n",
       "1  февраль  570192.91\n",
       "2     март  698723.40\n",
       "3   апрель  444834.87\n",
       "4      май  574488.89\n",
       "5     июнь  579810.45"
      ]
     },
     "execution_count": 184,
     "metadata": {},
     "output_type": "execute_result"
    }
   ],
   "source": [
    "# Загрузим также вторую таблицу, используем её позже\n",
    "\n",
    "df2 = pd.read_excel(r'C:\\Users\\Ильнур\\Desktop\\Тестовое задание для стажировки по аналитике_ Датасет.xlsx', sheet_name='Лист1')\n",
    "df2"
   ]
  },
  {
   "cell_type": "markdown",
   "id": "a6e97e99",
   "metadata": {},
   "source": [
    "### С этими данными уже можно работать. Рассмотрим поближе наш датафрейм, а именно, обратим внимение на типы данных"
   ]
  },
  {
   "cell_type": "code",
   "execution_count": 185,
   "id": "86a11294",
   "metadata": {},
   "outputs": [
    {
     "data": {
      "text/plain": [
       "ID      object\n",
       "Loss    object\n",
       "Date    object\n",
       "dtype: object"
      ]
     },
     "execution_count": 185,
     "metadata": {},
     "output_type": "execute_result"
    }
   ],
   "source": [
    "df.dtypes"
   ]
  },
  {
   "cell_type": "markdown",
   "id": "4f73acfb",
   "metadata": {},
   "source": [
    "### Наблюдаем, что столбец Loss - object. Для ведения счёта приведем его в float: "
   ]
  },
  {
   "cell_type": "code",
   "execution_count": 186,
   "id": "099762ea",
   "metadata": {},
   "outputs": [
    {
     "data": {
      "text/plain": [
       "ID       object\n",
       "Loss    float64\n",
       "Date     object\n",
       "dtype: object"
      ]
     },
     "execution_count": 186,
     "metadata": {},
     "output_type": "execute_result"
    }
   ],
   "source": [
    "df[\"Loss\"] = pd.to_numeric(df[\"Loss\"])\n",
    "df.dtypes"
   ]
  },
  {
   "cell_type": "markdown",
   "id": "9bf5a672",
   "metadata": {},
   "source": [
    "### Эти данные готовы к выгрузке. Однако при детальном рассмотрении столбца Date, мы видим аномалии в некоторых значениях, например:"
   ]
  },
  {
   "cell_type": "code",
   "execution_count": 187,
   "id": "e8564e9a",
   "metadata": {},
   "outputs": [
    {
     "data": {
      "text/html": [
       "<div>\n",
       "<style scoped>\n",
       "    .dataframe tbody tr th:only-of-type {\n",
       "        vertical-align: middle;\n",
       "    }\n",
       "\n",
       "    .dataframe tbody tr th {\n",
       "        vertical-align: top;\n",
       "    }\n",
       "\n",
       "    .dataframe thead th {\n",
       "        text-align: right;\n",
       "    }\n",
       "</style>\n",
       "<table border=\"1\" class=\"dataframe\">\n",
       "  <thead>\n",
       "    <tr style=\"text-align: right;\">\n",
       "      <th></th>\n",
       "      <th>ID</th>\n",
       "      <th>Loss</th>\n",
       "      <th>Date</th>\n",
       "    </tr>\n",
       "  </thead>\n",
       "  <tbody>\n",
       "    <tr>\n",
       "      <th>4</th>\n",
       "      <td>25</td>\n",
       "      <td>4425.30</td>\n",
       "      <td>24.1.2020</td>\n",
       "    </tr>\n",
       "    <tr>\n",
       "      <th>5</th>\n",
       "      <td>26</td>\n",
       "      <td>4019.86</td>\n",
       "      <td>10.26.2020</td>\n",
       "    </tr>\n",
       "  </tbody>\n",
       "</table>\n",
       "</div>"
      ],
      "text/plain": [
       "   ID     Loss        Date\n",
       "4  25  4425.30   24.1.2020\n",
       "5  26  4019.86  10.26.2020"
      ]
     },
     "execution_count": 187,
     "metadata": {},
     "output_type": "execute_result"
    }
   ],
   "source": [
    "df.iloc[4:6]"
   ]
  },
  {
   "cell_type": "markdown",
   "id": "ece39f95",
   "metadata": {},
   "source": [
    "### Таким образом, либо нарушен порядок присвоения дат и месяцев (где-то DD.MM.YYYY, а где-то MM.DD.YYYY), либо дни и месяцы просто заменены случайными числами от 1 до 31."
   ]
  },
  {
   "cell_type": "markdown",
   "id": "f9b36996",
   "metadata": {},
   "source": [
    "## Теория: Ввиду того, что в нашей выгрузке ID пациента идут последовательно, а по колонке Date на второй позиции мы видим наиболее часто встречающуюся цифру предполагаемого месяца, есть основания полагать, что выгрузка сортирована по дате.\n",
    "\n",
    "### Проверим эту теорию. Для этого взглянем на выборку и выберем предполагаемые граничные значения каждого месяца, просуммируем по каждому предположенному месяцу и сравним со второй данной нам таблицей."
   ]
  },
  {
   "cell_type": "code",
   "execution_count": 188,
   "id": "9c289e62",
   "metadata": {},
   "outputs": [
    {
     "name": "stdout",
     "output_type": "stream",
     "text": [
      "Январь - 485487.8399999999\n",
      "Февраль - 570192.9099999999\n",
      "Март - 698723.4\n",
      "Апрель - 444834.87\n",
      "Май - 574488.89\n",
      "Июнь - 579810.4500000001\n"
     ]
    }
   ],
   "source": [
    "print('Январь -', df.Loss[0:90].sum())\n",
    "print('Февраль -', df.Loss[90:200].sum())\n",
    "print('Март -', df.Loss[200:330].sum())\n",
    "print('Апрель -', df.Loss[330:420].sum())\n",
    "print('Май -', df.Loss[420:530].sum())\n",
    "print('Июнь -', df.Loss[530:].sum())"
   ]
  },
  {
   "cell_type": "code",
   "execution_count": 189,
   "id": "5aaff448",
   "metadata": {},
   "outputs": [
    {
     "data": {
      "text/html": [
       "<div>\n",
       "<style scoped>\n",
       "    .dataframe tbody tr th:only-of-type {\n",
       "        vertical-align: middle;\n",
       "    }\n",
       "\n",
       "    .dataframe tbody tr th {\n",
       "        vertical-align: top;\n",
       "    }\n",
       "\n",
       "    .dataframe thead th {\n",
       "        text-align: right;\n",
       "    }\n",
       "</style>\n",
       "<table border=\"1\" class=\"dataframe\">\n",
       "  <thead>\n",
       "    <tr style=\"text-align: right;\">\n",
       "      <th></th>\n",
       "      <th>Месяц</th>\n",
       "      <th>Сумма</th>\n",
       "    </tr>\n",
       "  </thead>\n",
       "  <tbody>\n",
       "    <tr>\n",
       "      <th>0</th>\n",
       "      <td>январь</td>\n",
       "      <td>485487.84</td>\n",
       "    </tr>\n",
       "    <tr>\n",
       "      <th>1</th>\n",
       "      <td>февраль</td>\n",
       "      <td>570192.91</td>\n",
       "    </tr>\n",
       "    <tr>\n",
       "      <th>2</th>\n",
       "      <td>март</td>\n",
       "      <td>698723.40</td>\n",
       "    </tr>\n",
       "    <tr>\n",
       "      <th>3</th>\n",
       "      <td>апрель</td>\n",
       "      <td>444834.87</td>\n",
       "    </tr>\n",
       "    <tr>\n",
       "      <th>4</th>\n",
       "      <td>май</td>\n",
       "      <td>574488.89</td>\n",
       "    </tr>\n",
       "    <tr>\n",
       "      <th>5</th>\n",
       "      <td>июнь</td>\n",
       "      <td>579810.45</td>\n",
       "    </tr>\n",
       "  </tbody>\n",
       "</table>\n",
       "</div>"
      ],
      "text/plain": [
       "     Месяц      Сумма\n",
       "0   январь  485487.84\n",
       "1  февраль  570192.91\n",
       "2     март  698723.40\n",
       "3   апрель  444834.87\n",
       "4      май  574488.89\n",
       "5     июнь  579810.45"
      ]
     },
     "execution_count": 189,
     "metadata": {},
     "output_type": "execute_result"
    }
   ],
   "source": [
    "df2"
   ]
  },
  {
   "cell_type": "markdown",
   "id": "2412376a",
   "metadata": {},
   "source": [
    "### Визуально подобранные границы месяцев на 100% совпадают с данной нам выгрузкой по месяцам. \n",
    "### Таким образом, наша теория подтвердилась. Индекс последней оплаты в первом месяце - 89 (нумерация в Python идет с 0), во втором - 199 и т.д.  На основании этого приводим таблицу согласно запросу Отдела реестров:"
   ]
  },
  {
   "cell_type": "code",
   "execution_count": 190,
   "id": "48042a5d",
   "metadata": {},
   "outputs": [],
   "source": [
    "# Заменяем столбец даты на номер месяца, переименовыаем согласно примеру ответа\n",
    "df = df.rename(columns={'ID':'patiend_id', 'Date':'report_month'})\n",
    "df = df[['patiend_id', 'report_month', 'Loss']]\n"
   ]
  },
  {
   "cell_type": "code",
   "execution_count": 191,
   "id": "86966405",
   "metadata": {},
   "outputs": [
    {
     "data": {
      "text/html": [
       "<div>\n",
       "<style scoped>\n",
       "    .dataframe tbody tr th:only-of-type {\n",
       "        vertical-align: middle;\n",
       "    }\n",
       "\n",
       "    .dataframe tbody tr th {\n",
       "        vertical-align: top;\n",
       "    }\n",
       "\n",
       "    .dataframe thead th {\n",
       "        text-align: right;\n",
       "    }\n",
       "</style>\n",
       "<table border=\"1\" class=\"dataframe\">\n",
       "  <thead>\n",
       "    <tr style=\"text-align: right;\">\n",
       "      <th></th>\n",
       "      <th>patiend_id</th>\n",
       "      <th>report_month</th>\n",
       "      <th>Loss</th>\n",
       "    </tr>\n",
       "  </thead>\n",
       "  <tbody>\n",
       "    <tr>\n",
       "      <th>0</th>\n",
       "      <td>21</td>\n",
       "      <td>1</td>\n",
       "      <td>3468.72</td>\n",
       "    </tr>\n",
       "    <tr>\n",
       "      <th>1</th>\n",
       "      <td>22</td>\n",
       "      <td>1</td>\n",
       "      <td>9264.84</td>\n",
       "    </tr>\n",
       "    <tr>\n",
       "      <th>2</th>\n",
       "      <td>23</td>\n",
       "      <td>1</td>\n",
       "      <td>9593.12</td>\n",
       "    </tr>\n",
       "    <tr>\n",
       "      <th>3</th>\n",
       "      <td>24</td>\n",
       "      <td>1</td>\n",
       "      <td>7798.25</td>\n",
       "    </tr>\n",
       "    <tr>\n",
       "      <th>4</th>\n",
       "      <td>25</td>\n",
       "      <td>1</td>\n",
       "      <td>4425.30</td>\n",
       "    </tr>\n",
       "    <tr>\n",
       "      <th>...</th>\n",
       "      <td>...</td>\n",
       "      <td>...</td>\n",
       "      <td>...</td>\n",
       "    </tr>\n",
       "    <tr>\n",
       "      <th>655</th>\n",
       "      <td>606</td>\n",
       "      <td>6</td>\n",
       "      <td>6548.01</td>\n",
       "    </tr>\n",
       "    <tr>\n",
       "      <th>656</th>\n",
       "      <td>607</td>\n",
       "      <td>6</td>\n",
       "      <td>6597.90</td>\n",
       "    </tr>\n",
       "    <tr>\n",
       "      <th>657</th>\n",
       "      <td>608</td>\n",
       "      <td>6</td>\n",
       "      <td>2526.00</td>\n",
       "    </tr>\n",
       "    <tr>\n",
       "      <th>658</th>\n",
       "      <td>609</td>\n",
       "      <td>6</td>\n",
       "      <td>8097.32</td>\n",
       "    </tr>\n",
       "    <tr>\n",
       "      <th>659</th>\n",
       "      <td>610</td>\n",
       "      <td>6</td>\n",
       "      <td>5362.31</td>\n",
       "    </tr>\n",
       "  </tbody>\n",
       "</table>\n",
       "<p>660 rows × 3 columns</p>\n",
       "</div>"
      ],
      "text/plain": [
       "    patiend_id report_month     Loss\n",
       "0           21            1  3468.72\n",
       "1           22            1  9264.84\n",
       "2           23            1  9593.12\n",
       "3           24            1  7798.25\n",
       "4           25            1  4425.30\n",
       "..         ...          ...      ...\n",
       "655        606            6  6548.01\n",
       "656        607            6  6597.90\n",
       "657        608            6  2526.00\n",
       "658        609            6  8097.32\n",
       "659        610            6  5362.31\n",
       "\n",
       "[660 rows x 3 columns]"
      ]
     },
     "execution_count": 191,
     "metadata": {},
     "output_type": "execute_result"
    }
   ],
   "source": [
    "df.loc[df.index[0:90], 'report_month'] = 1\n",
    "df.loc[df.index[90:200], 'report_month'] = 2\n",
    "df.loc[df.index[200:330], 'report_month'] = 3\n",
    "df.loc[df.index[330:420], 'report_month'] = 4\n",
    "df.loc[df.index[420:530], 'report_month'] = 5\n",
    "df.loc[df.index[530:], 'report_month'] = 6\n",
    "df"
   ]
  },
  {
   "cell_type": "code",
   "execution_count": 192,
   "id": "aaacf115",
   "metadata": {},
   "outputs": [],
   "source": [
    "# Экспорт файла\n",
    "\n",
    "df.to_csv(r'C:\\Users\\Ильнур\\Desktop\\Каримуллин Ильнур.csv', index=False)"
   ]
  },
  {
   "cell_type": "markdown",
   "id": "562f4964",
   "metadata": {},
   "source": [
    "### P.S. Решение, приведенное выше, имеет место быть благодаря небольшой выборке. Однако, если в следующий раз Отдел реестров пришлет нам такое же задание, но уже с выборкой за пять лет, то потребуется гораздо больше времени для определения границ месяца. В этом случае рациональнее будет использовать кумулятивную сумму по значению loss. "
   ]
  },
  {
   "cell_type": "markdown",
   "id": "9a2684b4",
   "metadata": {},
   "source": [
    "### Применение кумулятивной суммы может выглядеть так:"
   ]
  },
  {
   "cell_type": "code",
   "execution_count": 193,
   "id": "9cca44b0",
   "metadata": {},
   "outputs": [
    {
     "name": "stdout",
     "output_type": "stream",
     "text": [
      "Крайний индекс месяца 1 - 89\n",
      "Крайний индекс месяца 2 - 199\n",
      "Крайний индекс месяца 3 - 329\n",
      "Крайний индекс месяца 4 - 419\n",
      "Крайний индекс месяца 5 - 529\n",
      "Крайний индекс месяца 6 - 659\n"
     ]
    }
   ],
   "source": [
    "# Загружаем нужную библиотеку\n",
    "import numpy as np\n",
    "\n",
    "# Обрабатываем поэлементно нужные столбцы и записываем их в отдельные переменные\n",
    "\n",
    "sum_by_payment = [int(i) for i in np.cumsum(df['Loss']).values]\n",
    "sum_by_month = [int(i) for i in np.cumsum(df2['Сумма']).values]\n",
    "\n",
    "# Пробегаемся целевым списком по значениям, выводим индексы совпадающих элементов\n",
    "count = 0\n",
    "for i in sum_by_month:\n",
    "    count += 1\n",
    "    if i in sum_by_payment:\n",
    "        print(f'Крайний индекс месяца {count} -', sum_by_payment.index(i))"
   ]
  }
 ],
 "metadata": {
  "kernelspec": {
   "display_name": "Python 3",
   "language": "python",
   "name": "python3"
  },
  "language_info": {
   "codemirror_mode": {
    "name": "ipython",
    "version": 3
   },
   "file_extension": ".py",
   "mimetype": "text/x-python",
   "name": "python",
   "nbconvert_exporter": "python",
   "pygments_lexer": "ipython3",
   "version": "3.8.8"
  }
 },
 "nbformat": 4,
 "nbformat_minor": 5
}
